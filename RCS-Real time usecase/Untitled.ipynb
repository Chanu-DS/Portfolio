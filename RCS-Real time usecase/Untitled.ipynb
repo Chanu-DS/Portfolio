{
 "cells": [
  {
   "cell_type": "markdown",
   "metadata": {},
   "source": [
    "all the links of helpful resources that i've used to do this notebook:  \n",
    "[remove unwanted partsdrom strings](https://stackoverflow.com/questions/13682044/remove-unwanted-parts-from-strings-in-a-column), [deal with rows having NaN](https://datatofish.com/rows-with-nan-pandas-dataframe/#:~:text=Steps%20to%20select%20all%20rows%20with%20NaN%20values%20in%20Pandas%20DataFrame&text=The%20goal%20is%20to%20select,values%20under%20the%20entire%20DataFrame), [single vs multi column index](http://itdoc.hitachi.co.jp/manuals/3020/3020635200e/W3520279.HTM#:~:text=The%20two%20types%20of%20indexes,multiple%20columns%20of%20a%20table.), [google search for Nan in pandas](https://www.google.com/search?sxsrf=ALeKk03pOaa9GcbFHWsXqe2fPMkxyg0GHg:1618246380401&q=check+nan+in+pandas&spell=1&sa=X&ved=2ahUKEwi6sabFlfnvAhXUAnIKHdxcDScQBSgAegQIARAw&biw=1536&bih=726), [Get row index values of a DataFrame as list](https://stackoverflow.com/questions/18358938/get-row-index-values-of-pandas-dataframe-as-list), [remove specific list of rows from dataframe](https://www.google.com/search?q=remove+specific+list+of+rows+from+dataframe&oq=remove+specific+list+of+rows+from+dataframe&aqs=chrome..69i57.9118j0j1&sourceid=chrome&ie=UTF-8), [DataFrame.to_excel() method in Pandas](https://www.geeksforgeeks.org/dataframe-to_excel-method-in-pandas/),  \n",
    "    [Python | Pandas Series.filter() NOT USED](https://www.geeksforgeeks.org/python-pandas-series-filter/#:~:text=filter()%20function%20returns%20subset,the%20labels%20of%20the%20index.))  \n",
    "    [How to Convert String to Integer in Pandas DataFrame](https://datatofish.com/string-to-integer-dataframe/)  \n",
    "    [filtering data frame based on column value of another data frame](https://datatofish.com/string-to-integer-dataframe/)  \n",
    "    [How to filter Pandas dataframe uusing 'in' and 'not in' like in SQL](https://stackoverflow.com/questions/19960077/how-to-filter-pandas-dataframe-using-in-and-not-in-like-in-sql)  \n",
    "    [Python pandas valueerror arrays must be all same length](https://stackoverflow.com/questions/40442014/python-pandas-valueerror-arrays-must-be-all-same-length)  \n",
    "    [Pandas: Append / Add row to dataframe (6 ways)](https://thispointer.com/python-pandas-how-to-add-rows-in-a-dataframe-using-dataframe-append-loc-iloc/)  \n",
    "    [How to append a row to another dataframe](https://stackoverflow.com/questions/47963548/how-to-append-a-row-to-another-dataframe)  \n",
    "    [how-to-get-rid-of-pandas-converting-large-numbers-in-excel-sheet-to-exponential](https://stackoverflow.com/questions/38689125/how-to-get-rid-of-pandas-converting-large-numbers-in-excel-sheet-to-exponential)  \n",
    "    [ValueError: Unknown format code 'f' for object of type 'str'](https://www.google.com/search?q=ValueError%3A+Unknown+format+code+%27f%27+for+object+of+type+%27str%27&sxsrf=ALeKk03fNuh6JBbc_Lpb9Tc966TN-bE_Zg%3A1618253873609&ei=MZh0YLTGJM7ez7sPz9itsAU&oq=ValueError%3A+Unknown+format+code+%27f%27+for+object+of+type+%27str%27&gs_lcp=Cgdnd3Mtd2l6EAMyAggAMgYIABAFEB46BwgjELADECc6BwgAEEcQsAM6BggAEAcQHjoICAAQBxAFEB5QkyNY4yZgzC5oAXACeACAAdwBiAG9A5IBBTAuMi4xmAEAoAEBqgEHZ3dzLXdpesgBCcABAQ&sclient=gws-wiz&ved=0ahUKEwj0oqu6sfnvAhVO73MBHU9sC1YQ4dUDCA0&uact=5)  \n",
    "    [select rows from list](https://www.google.com/search?q=select+rows+from+list&oq=select+rows+from+list&aqs=chrome..69i57.11575j0j1&sourceid=chrome&ie=UTF-8)  \n",
    "    [Python pandas -Merging/Joining](https://www.tutorialspoint.com/python_pandas/python_pandas_merging_joining.htm)  \n",
    "    [pandas.DataFrame.set_index](https://pandas.pydata.org/docs/reference/api/pandas.DataFrame.set_index.html)  \n",
    "    [Matplotlib.pyplot.hist() in Python](https://www.geeksforgeeks.org/matplotlib-pyplot-hist-in-python/)  \n",
    "    [Groupby in Pandas](https://pandas.pydata.org/pandas-docs/stable/reference/api/pandas.DataFrame.groupby.html)  \n",
    "    [Combining multiple columns in Pandas groupby with dictionary](https://www.geeksforgeeks.org/combining-multiple-columns-in-pandas-groupby-with-dictionary/)  \n",
    "    [sort_values in pandas](https://pandas.pydata.org/pandas-docs/stable/reference/api/pandas.DataFrame.sort_values.html)  \n",
    "    [Barplot from Dataframe column](https://stackoverflow.com/questions/40951725/making-a-barplot-from-pandas-dataframe-column)  \n",
    "    [Change figure size in Pandas – Python](https://www.geeksforgeeks.org/change-figure-size-in-pandas-python/)  \n",
    "    [how-to-rename-an-empty-column-header-in-a-pandas-dataframe-without-exporting-t](https://stackoverflow.com/questions/41096611/how-to-rename-an-empty-column-header-in-a-pandas-dataframe-without-exporting-t)  \n",
    "    [converting-a-pandas-groupby-output-from-series-to-dataframe](https://stackoverflow.com/questions/10373660/converting-a-pandas-groupby-output-from-series-to-dataframe)  \n",
    "    [Python | Pandas dataframe.groupby()](https://www.geeksforgeeks.org/python-pandas-dataframe-groupby/)  \n",
    "    [plotting-multiple-columns-of-different-sizes-with-pandas](https://stackoverflow.com/questions/52543824/plotting-multiple-columns-of-different-sizes-with-pandas)  \n",
    "[Multiple Bar plots](https://stackoverflow.com/questions/38807895/seaborn-multiple-barplots/38808042)  \n",
    "[Index.name](https://stackoverflow.com/questions/18022845/pandas-index-column-title-or-name?rq=1)  \n",
    "[Pandas.melt](https://www.geeksforgeeks.org/python-pandas-melt/)  \n",
    "[sns.factorplot](https://www.geeksforgeeks.org/python-seaborn-factorplot-method/)  \n"
   ]
  },
  {
   "cell_type": "code",
   "execution_count": null,
   "metadata": {},
   "outputs": [],
   "source": []
  }
 ],
 "metadata": {
  "kernelspec": {
   "display_name": "Python 3",
   "language": "python",
   "name": "python3"
  },
  "language_info": {
   "codemirror_mode": {
    "name": "ipython",
    "version": 3
   },
   "file_extension": ".py",
   "mimetype": "text/x-python",
   "name": "python",
   "nbconvert_exporter": "python",
   "pygments_lexer": "ipython3",
   "version": "3.7.6"
  }
 },
 "nbformat": 4,
 "nbformat_minor": 4
}
