{
 "cells": [
  {
   "cell_type": "code",
   "execution_count": 1,
   "metadata": {},
   "outputs": [],
   "source": [
    "import requests\n",
    "from bs4 import BeautifulSoup"
   ]
  },
  {
   "cell_type": "code",
   "execution_count": 2,
   "metadata": {},
   "outputs": [],
   "source": [
    "topics_url='https://github.com/collections'"
   ]
  },
  {
   "cell_type": "code",
   "execution_count": 3,
   "metadata": {},
   "outputs": [],
   "source": [
    "response=requests.get(topics_url)"
   ]
  },
  {
   "cell_type": "code",
   "execution_count": 4,
   "metadata": {},
   "outputs": [
    {
     "data": {
      "text/plain": [
       "200"
      ]
     },
     "execution_count": 4,
     "metadata": {},
     "output_type": "execute_result"
    }
   ],
   "source": [
    "response.status_code"
   ]
  },
  {
   "cell_type": "code",
   "execution_count": 5,
   "metadata": {},
   "outputs": [
    {
     "data": {
      "text/plain": [
       "88658"
      ]
     },
     "execution_count": 5,
     "metadata": {},
     "output_type": "execute_result"
    }
   ],
   "source": [
    "len(response.text)"
   ]
  },
  {
   "cell_type": "code",
   "execution_count": 6,
   "metadata": {},
   "outputs": [],
   "source": [
    "page_text=response.text"
   ]
  },
  {
   "cell_type": "code",
   "execution_count": 7,
   "metadata": {},
   "outputs": [
    {
     "data": {
      "text/plain": [
       "'\\n\\n<!DOCTYPE html>\\n<html lang=\"en\" data-color-mode=\"auto\" data-light-theme=\"light\" data-dark-theme=\"dark\">\\n  <head>\\n    <meta charset=\"utf-8\">\\n  <link rel=\"dns-prefetch\" href=\"https://github.githubasse'"
      ]
     },
     "execution_count": 7,
     "metadata": {},
     "output_type": "execute_result"
    }
   ],
   "source": [
    "page_text[:200]"
   ]
  },
  {
   "cell_type": "code",
   "execution_count": 8,
   "metadata": {},
   "outputs": [],
   "source": [
    "with open('udemy.html','w',encoding='utf-8') as f:\n",
    "    f.write(page_text)"
   ]
  },
  {
   "cell_type": "code",
   "execution_count": 10,
   "metadata": {},
   "outputs": [
    {
     "data": {
      "text/plain": [
       "bs4.BeautifulSoup"
      ]
     },
     "execution_count": 10,
     "metadata": {},
     "output_type": "execute_result"
    }
   ],
   "source": [
    "soup=BeautifulSoup(page_text,'lxml')\n",
    "type(soup)"
   ]
  },
  {
   "cell_type": "code",
   "execution_count": 13,
   "metadata": {},
   "outputs": [],
   "source": [
    "p_tags=soup.find_all('p')"
   ]
  },
  {
   "cell_type": "code",
   "execution_count": 14,
   "metadata": {},
   "outputs": [
    {
     "data": {
      "text/plain": [
       "[<p class=\"f4 color-text-secondary col-md-8 mx-auto\">Curated lists and insight into burgeoning industries, topics, and communities.</p>,\n",
       " <p class=\"f3 lh-condensed text-center Link--primary mb-0 mt-1\">Game Engines</p>,\n",
       " <p class=\"f5 color-text-secondary text-center mb-0 mt-1\">Frameworks for building games across multiple platforms.</p>,\n",
       " <p class=\"f3 lh-condensed text-center Link--primary mb-0 mt-1\">Made in India</p>,\n",
       " <p class=\"f5 color-text-secondary text-center mb-0 mt-1\">Open source projects built in or receiving significant contributions from India :india:</p>,\n",
       " <p class=\"f3 lh-condensed text-center Link--primary mb-0 mt-1\">Pixel Art Tools</p>,\n",
       " <p class=\"f5 color-text-secondary text-center mb-0 mt-1\">Creating pixel art for fun or animated sprites for a game? The digital artist in you will love these apps and tools!</p>]"
      ]
     },
     "execution_count": 14,
     "metadata": {},
     "output_type": "execute_result"
    }
   ],
   "source": [
    "p_tags"
   ]
  },
  {
   "cell_type": "code",
   "execution_count": null,
   "metadata": {},
   "outputs": [],
   "source": []
  },
  {
   "cell_type": "code",
   "execution_count": 45,
   "metadata": {},
   "outputs": [],
   "source": [
    "selection_class='h3'#'col-10 col-md-11'\n",
    "article_title_tags=soup.find_all('h2',{'class':selection_class})"
   ]
  },
  {
   "cell_type": "code",
   "execution_count": 46,
   "metadata": {
    "scrolled": true
   },
   "outputs": [
    {
     "data": {
      "text/plain": [
       "bs4.element.ResultSet"
      ]
     },
     "execution_count": 46,
     "metadata": {},
     "output_type": "execute_result"
    }
   ],
   "source": [
    "\n",
    "type(article_title_tags)"
   ]
  },
  {
   "cell_type": "code",
   "execution_count": 74,
   "metadata": {},
   "outputs": [],
   "source": [
    "# article_title_tags"
   ]
  },
  {
   "cell_type": "code",
   "execution_count": 59,
   "metadata": {},
   "outputs": [
    {
     "data": {
      "text/plain": [
       "['How to choose (and contribute to) your first open source project',\n",
       " 'Clean code linters',\n",
       " 'Open journalism',\n",
       " 'Design essentials',\n",
       " 'Music',\n",
       " 'Government apps',\n",
       " 'DevOps tools',\n",
       " 'Front-end JavaScript frameworks',\n",
       " 'GitHub Browser Extensions',\n",
       " 'GitHub Pages examples',\n",
       " 'Hacking Minecraft',\n",
       " 'JavaScript Game Engines',\n",
       " 'Learn to Code',\n",
       " 'Getting started with machine learning',\n",
       " 'Made in Africa',\n",
       " 'Net neutrality',\n",
       " 'Open data',\n",
       " 'Open source organizations',\n",
       " 'Policies',\n",
       " 'Software productivity tools']"
      ]
     },
     "execution_count": 59,
     "metadata": {},
     "output_type": "execute_result"
    }
   ],
   "source": [
    "article_titles=[]\n",
    "for i in article_title_tags:\n",
    "    article_titles.append(i.a.text)\n",
    "article_titles\n",
    "    "
   ]
  },
  {
   "cell_type": "code",
   "execution_count": 54,
   "metadata": {},
   "outputs": [],
   "source": [
    "subtitle_tags=soup.find_all('div',class_='col-10 col-md-11')"
   ]
  },
  {
   "cell_type": "code",
   "execution_count": 73,
   "metadata": {},
   "outputs": [],
   "source": [
    "# subtitle_tags"
   ]
  },
  {
   "cell_type": "code",
   "execution_count": 80,
   "metadata": {},
   "outputs": [
    {
     "name": "stdout",
     "output_type": "stream",
     "text": [
      "\"/collections/choosing-projects\"\n",
      "\"/collections/clean-code-linters\"\n",
      "\"/collections/open-journalism\"\n",
      "\"/collections/design-essentials\"\n",
      "\"/collections/music\"\n",
      "\"/collections/government\"\n",
      "\"/collections/devops-tools\"\n",
      "\"/collections/front-end-javascript-frameworks\"\n",
      "\"/collections/github-browser-extensions\"\n",
      "\"/collections/github-pages-examples\"\n",
      "\"/collections/hacking-minecraft\"\n",
      "\"/collections/javascript-game-engines\"\n",
      "\"/collections/learn-to-code\"\n",
      "\"/collections/machine-learning\"\n",
      "\"/collections/made-in-africa\"\n",
      "\"/collections/net-neutrality\"\n",
      "\"/collections/open-data\"\n",
      "\"/collections/open-source-organizations\"\n",
      "\"/collections/policies\"\n",
      "\"/collections/productivity-tools\"\n"
     ]
    }
   ],
   "source": [
    "links=[]\n",
    "for i in subtitle_tags:\n",
    "    link=str(i.a)[str(i.a).find('href=')+5:str(i.a).find('>')]\n",
    "    print(link)\n",
    "    links.append('https://github.com/'+link)"
   ]
  },
  {
   "cell_type": "code",
   "execution_count": 81,
   "metadata": {},
   "outputs": [],
   "source": [
    "title_link={}\n"
   ]
  },
  {
   "cell_type": "code",
   "execution_count": 84,
   "metadata": {},
   "outputs": [],
   "source": [
    "for i,j in zip(article_titles,links):\n",
    "    title_link[i]=j"
   ]
  },
  {
   "cell_type": "code",
   "execution_count": 85,
   "metadata": {},
   "outputs": [
    {
     "data": {
      "text/plain": [
       "{'How to choose (and contribute to) your first open source project': 'https://github.com/\"/collections/choosing-projects\"',\n",
       " 'Clean code linters': 'https://github.com/\"/collections/clean-code-linters\"',\n",
       " 'Open journalism': 'https://github.com/\"/collections/open-journalism\"',\n",
       " 'Design essentials': 'https://github.com/\"/collections/design-essentials\"',\n",
       " 'Music': 'https://github.com/\"/collections/music\"',\n",
       " 'Government apps': 'https://github.com/\"/collections/government\"',\n",
       " 'DevOps tools': 'https://github.com/\"/collections/devops-tools\"',\n",
       " 'Front-end JavaScript frameworks': 'https://github.com/\"/collections/front-end-javascript-frameworks\"',\n",
       " 'GitHub Browser Extensions': 'https://github.com/\"/collections/github-browser-extensions\"',\n",
       " 'GitHub Pages examples': 'https://github.com/\"/collections/github-pages-examples\"',\n",
       " 'Hacking Minecraft': 'https://github.com/\"/collections/hacking-minecraft\"',\n",
       " 'JavaScript Game Engines': 'https://github.com/\"/collections/javascript-game-engines\"',\n",
       " 'Learn to Code': 'https://github.com/\"/collections/learn-to-code\"',\n",
       " 'Getting started with machine learning': 'https://github.com/\"/collections/machine-learning\"',\n",
       " 'Made in Africa': 'https://github.com/\"/collections/made-in-africa\"',\n",
       " 'Net neutrality': 'https://github.com/\"/collections/net-neutrality\"',\n",
       " 'Open data': 'https://github.com/\"/collections/open-data\"',\n",
       " 'Open source organizations': 'https://github.com/\"/collections/open-source-organizations\"',\n",
       " 'Policies': 'https://github.com/\"/collections/policies\"',\n",
       " 'Software productivity tools': 'https://github.com/\"/collections/productivity-tools\"'}"
      ]
     },
     "execution_count": 85,
     "metadata": {},
     "output_type": "execute_result"
    }
   ],
   "source": [
    "title_link"
   ]
  },
  {
   "cell_type": "code",
   "execution_count": 87,
   "metadata": {},
   "outputs": [],
   "source": [
    "import pandas as pd\n",
    "import csv"
   ]
  },
  {
   "cell_type": "code",
   "execution_count": 91,
   "metadata": {},
   "outputs": [],
   "source": [
    "title_link_df=pd.DataFrame(title_link.values(),index=title_link.keys())"
   ]
  },
  {
   "cell_type": "code",
   "execution_count": 93,
   "metadata": {},
   "outputs": [],
   "source": [
    "title_link_df.to_csv('githubcollection_links.csv')"
   ]
  },
  {
   "cell_type": "code",
   "execution_count": null,
   "metadata": {},
   "outputs": [],
   "source": []
  }
 ],
 "metadata": {
  "kernelspec": {
   "display_name": "Python 3",
   "language": "python",
   "name": "python3"
  },
  "language_info": {
   "codemirror_mode": {
    "name": "ipython",
    "version": 3
   },
   "file_extension": ".py",
   "mimetype": "text/x-python",
   "name": "python",
   "nbconvert_exporter": "python",
   "pygments_lexer": "ipython3",
   "version": "3.7.6"
  }
 },
 "nbformat": 4,
 "nbformat_minor": 4
}
